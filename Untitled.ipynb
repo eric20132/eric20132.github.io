{
 "cells": [
  {
   "cell_type": "code",
   "execution_count": 16,
   "id": "56b6a7ff",
   "metadata": {},
   "outputs": [
    {
     "name": "stdout",
     "output_type": "stream",
     "text": [
      "[2, 3, 4, 5, 2, 6]\n"
     ]
    }
   ],
   "source": [
    "str=[1,2,3,4,5,2,6,1 ,1]\n",
    "\n",
    "i = 0\n",
    "while i < len(str):\n",
    "    if str[i] == 1:\n",
    "        del str[i]\n",
    "    else:\n",
    "        i += 1\n",
    "\n",
    "\n",
    "    \n",
    "\n",
    "print(str)"
   ]
  },
  {
   "cell_type": "code",
   "execution_count": null,
   "id": "a61e3f00",
   "metadata": {},
   "outputs": [],
   "source": []
  }
 ],
 "metadata": {
  "kernelspec": {
   "display_name": "Python 3",
   "language": "python",
   "name": "python3"
  },
  "language_info": {
   "codemirror_mode": {
    "name": "ipython",
    "version": 3
   },
   "file_extension": ".py",
   "mimetype": "text/x-python",
   "name": "python",
   "nbconvert_exporter": "python",
   "pygments_lexer": "ipython3",
   "version": "3.8.8"
  }
 },
 "nbformat": 4,
 "nbformat_minor": 5
}
